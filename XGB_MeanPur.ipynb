{
  "cells": [
    {
      "metadata": {
        "trusted": true,
        "_uuid": "5ff495ed23dab135ed6849aa5a0a643dec2211d4"
      },
      "cell_type": "code",
      "source": "# This Python 3 environment comes with many helpful analytics libraries installed\n# It is defined by the kaggle/python docker image: https://github.com/kaggle/docker-python\n# For example, here's several helpful packages to load in \n\nimport numpy as np # linear algebra\nimport pandas as pd # data processing, CSV file I/O (e.g. pd.read_csv)\n\n\n#Visualizations library\nimport seaborn as sns \nimport matplotlib.pyplot as plt\n\n\n#Stats library\nfrom scipy import stats\nfrom scipy.stats import norm, skew \n\n#Preprocessing Libraries\nfrom statsmodels.stats.outliers_influence import variance_inflation_factor\nfrom sklearn.preprocessing import MinMaxScaler\nfrom sklearn.preprocessing import LabelEncoder\nfrom scipy.special import boxcox1p\n\n\n# Modellling Librries\nfrom sklearn.linear_model import ElasticNet, Lasso,  BayesianRidge, LassoLarsIC, LassoCV, Ridge\nfrom sklearn.ensemble import RandomForestRegressor,  GradientBoostingRegressor\nfrom sklearn.kernel_ridge import KernelRidge\nfrom sklearn.pipeline import make_pipeline\nfrom sklearn.preprocessing import RobustScaler, LabelEncoder\nfrom sklearn.base import BaseEstimator, TransformerMixin, RegressorMixin, clone\nfrom sklearn.model_selection import KFold, cross_val_score, train_test_split\nfrom sklearn.metrics import mean_squared_error\nfrom sklearn import metrics\nfrom sklearn.model_selection import GridSearchCV \n\nimport xgboost as xgb\n\nimport os\n# print(os.listdir(\"../House Price Predictor\"))\n\n# Any results you write to the current directory are saved as output.",
      "execution_count": 106,
      "outputs": []
    },
    {
      "metadata": {
        "trusted": true,
        "_uuid": "d5e7323dbb55a9c3c3c41edac23ea2b3a02a3f2c"
      },
      "cell_type": "code",
      "source": "train = pd.read_csv('../input/blackfriday-train/train.csv')\ntest = pd.read_csv('../input/blackfriday-test/test.csv')\n\n\nid_train = train.index\nid_test = test.index",
      "execution_count": 107,
      "outputs": []
    },
    {
      "metadata": {
        "trusted": true,
        "_uuid": "0a1726d3bf62e5ec0343395c73f039e59d18a9bd"
      },
      "cell_type": "code",
      "source": "train.shape",
      "execution_count": 108,
      "outputs": [
        {
          "output_type": "execute_result",
          "execution_count": 108,
          "data": {
            "text/plain": "(550068, 12)"
          },
          "metadata": {}
        }
      ]
    },
    {
      "metadata": {
        "trusted": true,
        "_uuid": "6d0f83619a7f341c2bfb13baf87b7aba6c7a7532"
      },
      "cell_type": "code",
      "source": "train.head(5)",
      "execution_count": 109,
      "outputs": [
        {
          "output_type": "execute_result",
          "execution_count": 109,
          "data": {
            "text/plain": "   User_ID Product_ID   ...    Product_Category_3 Purchase\n0  1000001  P00069042   ...                   NaN     8370\n1  1000001  P00248942   ...                  14.0    15200\n2  1000001  P00087842   ...                   NaN     1422\n3  1000001  P00085442   ...                   NaN     1057\n4  1000002  P00285442   ...                   NaN     7969\n\n[5 rows x 12 columns]",
            "text/html": "<div>\n<style scoped>\n    .dataframe tbody tr th:only-of-type {\n        vertical-align: middle;\n    }\n\n    .dataframe tbody tr th {\n        vertical-align: top;\n    }\n\n    .dataframe thead th {\n        text-align: right;\n    }\n</style>\n<table border=\"1\" class=\"dataframe\">\n  <thead>\n    <tr style=\"text-align: right;\">\n      <th></th>\n      <th>User_ID</th>\n      <th>Product_ID</th>\n      <th>Gender</th>\n      <th>Age</th>\n      <th>Occupation</th>\n      <th>City_Category</th>\n      <th>Stay_In_Current_City_Years</th>\n      <th>Marital_Status</th>\n      <th>Product_Category_1</th>\n      <th>Product_Category_2</th>\n      <th>Product_Category_3</th>\n      <th>Purchase</th>\n    </tr>\n  </thead>\n  <tbody>\n    <tr>\n      <th>0</th>\n      <td>1000001</td>\n      <td>P00069042</td>\n      <td>F</td>\n      <td>0-17</td>\n      <td>10</td>\n      <td>A</td>\n      <td>2</td>\n      <td>0</td>\n      <td>3</td>\n      <td>NaN</td>\n      <td>NaN</td>\n      <td>8370</td>\n    </tr>\n    <tr>\n      <th>1</th>\n      <td>1000001</td>\n      <td>P00248942</td>\n      <td>F</td>\n      <td>0-17</td>\n      <td>10</td>\n      <td>A</td>\n      <td>2</td>\n      <td>0</td>\n      <td>1</td>\n      <td>6.0</td>\n      <td>14.0</td>\n      <td>15200</td>\n    </tr>\n    <tr>\n      <th>2</th>\n      <td>1000001</td>\n      <td>P00087842</td>\n      <td>F</td>\n      <td>0-17</td>\n      <td>10</td>\n      <td>A</td>\n      <td>2</td>\n      <td>0</td>\n      <td>12</td>\n      <td>NaN</td>\n      <td>NaN</td>\n      <td>1422</td>\n    </tr>\n    <tr>\n      <th>3</th>\n      <td>1000001</td>\n      <td>P00085442</td>\n      <td>F</td>\n      <td>0-17</td>\n      <td>10</td>\n      <td>A</td>\n      <td>2</td>\n      <td>0</td>\n      <td>12</td>\n      <td>14.0</td>\n      <td>NaN</td>\n      <td>1057</td>\n    </tr>\n    <tr>\n      <th>4</th>\n      <td>1000002</td>\n      <td>P00285442</td>\n      <td>M</td>\n      <td>55+</td>\n      <td>16</td>\n      <td>C</td>\n      <td>4+</td>\n      <td>0</td>\n      <td>8</td>\n      <td>NaN</td>\n      <td>NaN</td>\n      <td>7969</td>\n    </tr>\n  </tbody>\n</table>\n</div>"
          },
          "metadata": {}
        }
      ]
    },
    {
      "metadata": {
        "trusted": true,
        "_uuid": "62c510e5fb8752c928c60802e5d667bd0b8d1d99"
      },
      "cell_type": "code",
      "source": "train.isnull().sum()",
      "execution_count": 110,
      "outputs": [
        {
          "output_type": "execute_result",
          "execution_count": 110,
          "data": {
            "text/plain": "User_ID                            0\nProduct_ID                         0\nGender                             0\nAge                                0\nOccupation                         0\nCity_Category                      0\nStay_In_Current_City_Years         0\nMarital_Status                     0\nProduct_Category_1                 0\nProduct_Category_2            173638\nProduct_Category_3            383247\nPurchase                           0\ndtype: int64"
          },
          "metadata": {}
        }
      ]
    },
    {
      "metadata": {
        "trusted": true,
        "_uuid": "f91f13f33ed68f2c7c08d2275a455c18476282a3"
      },
      "cell_type": "code",
      "source": "train.nunique()",
      "execution_count": 111,
      "outputs": [
        {
          "output_type": "execute_result",
          "execution_count": 111,
          "data": {
            "text/plain": "User_ID                        5891\nProduct_ID                     3631\nGender                            2\nAge                               7\nOccupation                       21\nCity_Category                     3\nStay_In_Current_City_Years        5\nMarital_Status                    2\nProduct_Category_1               20\nProduct_Category_2               17\nProduct_Category_3               15\nPurchase                      18105\ndtype: int64"
          },
          "metadata": {}
        }
      ]
    },
    {
      "metadata": {
        "trusted": true,
        "_uuid": "979b2da0b31eabe33cdee1f0eaad08b861657500"
      },
      "cell_type": "code",
      "source": "test.isnull().sum()",
      "execution_count": 112,
      "outputs": [
        {
          "output_type": "execute_result",
          "execution_count": 112,
          "data": {
            "text/plain": "User_ID                            0\nProduct_ID                         0\nGender                             0\nAge                                0\nOccupation                         0\nCity_Category                      0\nStay_In_Current_City_Years         0\nMarital_Status                     0\nProduct_Category_1                 0\nProduct_Category_2             72344\nProduct_Category_3            162562\ndtype: int64"
          },
          "metadata": {}
        }
      ]
    },
    {
      "metadata": {
        "trusted": true,
        "_uuid": "2d1bccfb9df3222d24ea76dcdab0dc27cf02bb86"
      },
      "cell_type": "code",
      "source": "test.nunique()",
      "execution_count": 113,
      "outputs": [
        {
          "output_type": "execute_result",
          "execution_count": 113,
          "data": {
            "text/plain": "User_ID                       5891\nProduct_ID                    3491\nGender                           2\nAge                              7\nOccupation                      21\nCity_Category                    3\nStay_In_Current_City_Years       5\nMarital_Status                   2\nProduct_Category_1              18\nProduct_Category_2              17\nProduct_Category_3              15\ndtype: int64"
          },
          "metadata": {}
        }
      ]
    },
    {
      "metadata": {
        "trusted": true,
        "_uuid": "513cbb7cb135da7dbf90d06eb3764d40e1d185b3"
      },
      "cell_type": "code",
      "source": "train.index",
      "execution_count": 114,
      "outputs": [
        {
          "output_type": "execute_result",
          "execution_count": 114,
          "data": {
            "text/plain": "RangeIndex(start=0, stop=550068, step=1)"
          },
          "metadata": {}
        }
      ]
    },
    {
      "metadata": {
        "trusted": true,
        "_uuid": "4f28ea686904bbc4e6bf0311e3d08b851bfb4426"
      },
      "cell_type": "code",
      "source": "test.index",
      "execution_count": 115,
      "outputs": [
        {
          "output_type": "execute_result",
          "execution_count": 115,
          "data": {
            "text/plain": "RangeIndex(start=0, stop=233599, step=1)"
          },
          "metadata": {}
        }
      ]
    },
    {
      "metadata": {
        "trusted": true,
        "_uuid": "61132c5449697ff2ee5de639145342567079ade1"
      },
      "cell_type": "code",
      "source": "pr_Id = test.Product_ID",
      "execution_count": 116,
      "outputs": []
    },
    {
      "metadata": {
        "trusted": true,
        "_uuid": "d1c5c43b61efe7bc702fafc294ee49ba53005d58"
      },
      "cell_type": "code",
      "source": "purchase = train.Purchase",
      "execution_count": 117,
      "outputs": []
    },
    {
      "metadata": {
        "trusted": true,
        "_uuid": "909b6500cede8d3168c7c095929fe312ea7fa8ca"
      },
      "cell_type": "code",
      "source": "meanPrice = train.groupby('Product_ID')['Purchase'].mean()",
      "execution_count": 118,
      "outputs": []
    },
    {
      "metadata": {
        "trusted": true,
        "_uuid": "fdf01190c0912b851e5d83285cb7ea7ee2ccda11"
      },
      "cell_type": "code",
      "source": "meanPrice = meanPrice.rename('MeanPurchase')",
      "execution_count": 119,
      "outputs": []
    },
    {
      "metadata": {
        "trusted": true,
        "_uuid": "bea1e09fcbb4291e11d5e6d3c1583afee7d7bf89"
      },
      "cell_type": "code",
      "source": "meanPrice.head()",
      "execution_count": 120,
      "outputs": [
        {
          "output_type": "execute_result",
          "execution_count": 120,
          "data": {
            "text/plain": "Product_ID\nP00000142    11143.642361\nP00000242    10551.851064\nP00000342     5313.422131\nP00000442     4795.358696\nP00000542     5417.530201\nName: MeanPurchase, dtype: float64"
          },
          "metadata": {}
        }
      ]
    },
    {
      "metadata": {
        "trusted": true,
        "_uuid": "6eb957db22f82c088abc9e8f6357cb068e36b1b9"
      },
      "cell_type": "code",
      "source": "combine = pd.concat([train, test], sort=True, ignore_index=True)\ncombine.drop('Purchase', axis=1, inplace=True)",
      "execution_count": 121,
      "outputs": []
    },
    {
      "metadata": {
        "trusted": true,
        "_uuid": "1ceee36e1ec0dfd9c5de89f7fb1b4b5dd93a2a5a"
      },
      "cell_type": "code",
      "source": "combine.index",
      "execution_count": 122,
      "outputs": [
        {
          "output_type": "execute_result",
          "execution_count": 122,
          "data": {
            "text/plain": "RangeIndex(start=0, stop=783667, step=1)"
          },
          "metadata": {}
        }
      ]
    },
    {
      "metadata": {
        "trusted": true,
        "_uuid": "89ce149f6710ca497aa16addeabe968a04c53a5e"
      },
      "cell_type": "code",
      "source": "# Dataframe that shows Null count and percent odf null counts of all features.\ndef checkNull(dataFrame):\n    nullCount = dataFrame.isnull().sum().sort_values(ascending=False)\n    nullCount = nullCount[nullCount != 0]\n    nullPercent = ((nullCount)/combine.shape[0]) * 100\n    nullCols = pd.DataFrame([nullCount, nullPercent], index=['Count', 'Percent']).transpose()\n    return nullCols",
      "execution_count": 123,
      "outputs": []
    },
    {
      "metadata": {
        "trusted": true,
        "_uuid": "3a886d3a1d2b3161860a0ea1d29ef5c1b287955e"
      },
      "cell_type": "code",
      "source": "nullCols = checkNull(combine)\nnullCols.head(10)",
      "execution_count": 124,
      "outputs": [
        {
          "output_type": "execute_result",
          "execution_count": 124,
          "data": {
            "text/plain": "                       Count    Percent\nProduct_Category_3  545809.0  69.648078\nProduct_Category_2  245982.0  31.388587",
            "text/html": "<div>\n<style scoped>\n    .dataframe tbody tr th:only-of-type {\n        vertical-align: middle;\n    }\n\n    .dataframe tbody tr th {\n        vertical-align: top;\n    }\n\n    .dataframe thead th {\n        text-align: right;\n    }\n</style>\n<table border=\"1\" class=\"dataframe\">\n  <thead>\n    <tr style=\"text-align: right;\">\n      <th></th>\n      <th>Count</th>\n      <th>Percent</th>\n    </tr>\n  </thead>\n  <tbody>\n    <tr>\n      <th>Product_Category_3</th>\n      <td>545809.0</td>\n      <td>69.648078</td>\n    </tr>\n    <tr>\n      <th>Product_Category_2</th>\n      <td>245982.0</td>\n      <td>31.388587</td>\n    </tr>\n  </tbody>\n</table>\n</div>"
          },
          "metadata": {}
        }
      ]
    },
    {
      "metadata": {
        "trusted": true,
        "_uuid": "0d0ba74f07c0790d9e99289e6b50970ab0851dd8"
      },
      "cell_type": "code",
      "source": "combine.fillna(-999, inplace=True)",
      "execution_count": 125,
      "outputs": []
    },
    {
      "metadata": {
        "trusted": true,
        "_uuid": "a35310c1bcf678e836d88b19a97a6a4480d16a23"
      },
      "cell_type": "code",
      "source": "# Visualising Correlation\n\ncorrmat = train.corr()\nf, ax = plt.subplots(figsize=(12, 9))\n\nsns.heatmap(corrmat, square=True)",
      "execution_count": 126,
      "outputs": [
        {
          "output_type": "execute_result",
          "execution_count": 126,
          "data": {
            "text/plain": "<matplotlib.axes._subplots.AxesSubplot at 0x7fe83fc601d0>"
          },
          "metadata": {}
        },
        {
          "output_type": "display_data",
          "data": {
            "text/plain": "<Figure size 864x648 with 2 Axes>",
            "image/png": "[encoded data removed]"
          },
          "metadata": {}
        }
      ]
    },
    {
      "metadata": {
        "trusted": true,
        "_uuid": "de4b72718ff200ae398174c55be07ccc84390db8"
      },
      "cell_type": "code",
      "source": "k = 12\nselectedCols = corrmat.nlargest(k, 'Purchase')['Purchase'].index\ncm = np.corrcoef(train[selectedCols].values.T)\nf, ax = plt.subplots(figsize=(10, 8))\n\nsns.set(font_scale=1.25)\nhm = sns.heatmap(cm, cbar=True, annot=True, square=True, fmt='.2f', annot_kws={'size' : 10}, yticklabels=selectedCols.values, xticklabels=selectedCols.values)\nplt.show()",
      "execution_count": 127,
      "outputs": [
        {
          "output_type": "display_data",
          "data": {
            "text/plain": "<Figure size 720x576 with 2 Axes>",
            "image/png": "[encoded data removed]"
          },
          "metadata": {}
        }
      ]
    },
    {
      "metadata": {
        "trusted": true,
        "_uuid": "2a900ed0eff1d0245de42585589cddf3489f17d0"
      },
      "cell_type": "code",
      "source": "# train.Product_ID.value_counts().idxmax()",
      "execution_count": 128,
      "outputs": []
    },
    {
      "metadata": {
        "trusted": true,
        "_uuid": "4e1daa55ddc928cb25f814b5eae7e8aa9e76ceb5"
      },
      "cell_type": "code",
      "source": "# train.Product_ID.value_counts().idxmin()",
      "execution_count": 129,
      "outputs": []
    },
    {
      "metadata": {
        "trusted": true,
        "_uuid": "89152c72617eb082b4fa0fdf9d805ff6874e48c2"
      },
      "cell_type": "code",
      "source": "# maxPuchasedProduct = train[train.Product_ID == 'P00265242']",
      "execution_count": 130,
      "outputs": []
    },
    {
      "metadata": {
        "trusted": true,
        "_uuid": "0edacb334ba82e109607408c92328444742d02a5"
      },
      "cell_type": "code",
      "source": "# maxPuchasedProduct",
      "execution_count": 131,
      "outputs": [
        {
          "output_type": "execute_result",
          "execution_count": 131,
          "data": {
            "text/plain": "        User_ID Product_ID   ...    Product_Category_3 Purchase\n399     1000066  P00265242   ...                   NaN     8652\n1191    1000196  P00265242   ...                   NaN     8767\n1372    1000222  P00265242   ...                   NaN     6944\n1845    1000301  P00265242   ...                   NaN     8628\n2209    1000345  P00265242   ...                   NaN     8593\n2404    1000383  P00265242   ...                   NaN     6998\n2466    1000398  P00265242   ...                   NaN     8646\n2682    1000426  P00265242   ...                   NaN     8890\n2851    1000459  P00265242   ...                   NaN     8770\n3148    1000518  P00265242   ...                   NaN     8896\n3158    1000520  P00265242   ...                   NaN     8694\n3574    1000582  P00265242   ...                   NaN     8761\n3748    1000617  P00265242   ...                   NaN     8568\n4085    1000675  P00265242   ...                   NaN     8689\n4087    1000676  P00265242   ...                   NaN     8714\n5920    1000960  P00265242   ...                   NaN     8864\n5958    1000970  P00265242   ...                   NaN     7127\n6355    1001023  P00265242   ...                   NaN     3752\n7238    1001139  P00265242   ...                   NaN     8788\n7465    1001165  P00265242   ...                   NaN     8882\n7526    1001174  P00265242   ...                   NaN     7180\n7593    1001181  P00265242   ...                   NaN     5237\n7773    1001204  P00265242   ...                   NaN     8889\n7940    1001232  P00265242   ...                   NaN     8746\n8244    1001273  P00265242   ...                   NaN     7041\n8316    1001280  P00265242   ...                   NaN     8569\n8692    1001331  P00265242   ...                   NaN     7103\n8718    1001334  P00265242   ...                   NaN     8833\n8826    1001354  P00265242   ...                   NaN     6941\n8925    1001366  P00265242   ...                   NaN     8879\n...         ...        ...   ...                   ...      ...\n536278  1004521  P00265242   ...                   NaN     8808\n536599  1004579  P00265242   ...                   NaN     8840\n536651  1004590  P00265242   ...                   NaN     6894\n537292  1004693  P00265242   ...                   NaN     8841\n537321  1004702  P00265242   ...                   NaN     6891\n537405  1004720  P00265242   ...                   NaN     8628\n537416  1004725  P00265242   ...                   NaN     6916\n537478  1004728  P00265242   ...                   NaN     6887\n537671  1004757  P00265242   ...                   NaN     7097\n538120  1004826  P00265242   ...                   NaN     8628\n538267  1004856  P00265242   ...                   NaN     7155\n538355  1004875  P00265242   ...                   NaN     8605\n538459  1004890  P00265242   ...                   NaN     8759\n539087  1005002  P00265242   ...                   NaN     8571\n539091  1005005  P00265242   ...                   NaN     6858\n539824  1005104  P00265242   ...                   NaN     7175\n540556  1005240  P00265242   ...                   NaN     8729\n540852  1005285  P00265242   ...                   NaN     8768\n540886  1005294  P00265242   ...                   NaN     8893\n541067  1005323  P00265242   ...                   NaN     8809\n541762  1005429  P00265242   ...                   NaN     8649\n541894  1005445  P00265242   ...                   NaN     7075\n542606  1005550  P00265242   ...                   NaN     8620\n542898  1005595  P00265242   ...                   NaN     8849\n543049  1005621  P00265242   ...                   NaN     7170\n543413  1005667  P00265242   ...                   NaN     8874\n544366  1005797  P00265242   ...                   NaN     8880\n544629  1005837  P00265242   ...                   NaN     8641\n544834  1005872  P00265242   ...                   NaN     8762\n545207  1005933  P00265242   ...                   NaN     8623\n\n[1880 rows x 12 columns]",
            "text/html": "<div>\n<style scoped>\n    .dataframe tbody tr th:only-of-type {\n        vertical-align: middle;\n    }\n\n    .dataframe tbody tr th {\n        vertical-align: top;\n    }\n\n    .dataframe thead th {\n        text-align: right;\n    }\n</style>\n<table border=\"1\" class=\"dataframe\">\n  <thead>\n    <tr style=\"text-align: right;\">\n      <th></th>\n      <th>User_ID</th>\n      <th>Product_ID</th>\n      <th>Gender</th>\n      <th>Age</th>\n      <th>Occupation</th>\n      <th>City_Category</th>\n      <th>Stay_In_Current_City_Years</th>\n      <th>Marital_Status</th>\n      <th>Product_Category_1</th>\n      <th>Product_Category_2</th>\n      <th>Product_Category_3</th>\n      <th>Purchase</th>\n    </tr>\n  </thead>\n  <tbody>\n    <tr>\n      <th>399</th>\n      <td>1000066</td>\n      <td>P00265242</td>\n      <td>M</td>\n      <td>26-35</td>\n      <td>18</td>\n      <td>C</td>\n      <td>2</td>\n      <td>0</td>\n      <td>5</td>\n      <td>8.0</td>\n      <td>NaN</td>\n      <td>8652</td>\n    </tr>\n    <tr>\n      <th>1191</th>\n      <td>1000196</td>\n      <td>P00265242</td>\n      <td>F</td>\n      <td>36-45</td>\n      <td>9</td>\n      <td>C</td>\n      <td>4+</td>\n      <td>0</td>\n      <td>5</td>\n      <td>8.0</td>\n      <td>NaN</td>\n      <td>8767</td>\n    </tr>\n    <tr>\n      <th>1372</th>\n      <td>1000222</td>\n      <td>P00265242</td>\n      <td>M</td>\n      <td>26-35</td>\n      <td>1</td>\n      <td>A</td>\n      <td>1</td>\n      <td>0</td>\n      <td>5</td>\n      <td>8.0</td>\n      <td>NaN</td>\n      <td>6944</td>\n    </tr>\n    <tr>\n      <th>1845</th>\n      <td>1000301</td>\n      <td>P00265242</td>\n      <td>M</td>\n      <td>18-25</td>\n      <td>4</td>\n      <td>B</td>\n      <td>4+</td>\n      <td>0</td>\n      <td>5</td>\n      <td>8.0</td>\n      <td>NaN</td>\n      <td>8628</td>\n    </tr>\n    <tr>\n      <th>2209</th>\n      <td>1000345</td>\n      <td>P00265242</td>\n      <td>M</td>\n      <td>26-35</td>\n      <td>12</td>\n      <td>A</td>\n      <td>2</td>\n      <td>1</td>\n      <td>5</td>\n      <td>8.0</td>\n      <td>NaN</td>\n      <td>8593</td>\n    </tr>\n    <tr>\n      <th>2404</th>\n      <td>1000383</td>\n      <td>P00265242</td>\n      <td>F</td>\n      <td>26-35</td>\n      <td>7</td>\n      <td>A</td>\n      <td>4+</td>\n      <td>1</td>\n      <td>5</td>\n      <td>8.0</td>\n      <td>NaN</td>\n      <td>6998</td>\n    </tr>\n    <tr>\n      <th>2466</th>\n      <td>1000398</td>\n      <td>P00265242</td>\n      <td>M</td>\n      <td>26-35</td>\n      <td>17</td>\n      <td>B</td>\n      <td>3</td>\n      <td>1</td>\n      <td>5</td>\n      <td>8.0</td>\n      <td>NaN</td>\n      <td>8646</td>\n    </tr>\n    <tr>\n      <th>2682</th>\n      <td>1000426</td>\n      <td>P00265242</td>\n      <td>M</td>\n      <td>18-25</td>\n      <td>4</td>\n      <td>A</td>\n      <td>1</td>\n      <td>1</td>\n      <td>5</td>\n      <td>8.0</td>\n      <td>NaN</td>\n      <td>8890</td>\n    </tr>\n    <tr>\n      <th>2851</th>\n      <td>1000459</td>\n      <td>P00265242</td>\n      <td>F</td>\n      <td>18-25</td>\n      <td>4</td>\n      <td>A</td>\n      <td>3</td>\n      <td>0</td>\n      <td>5</td>\n      <td>8.0</td>\n      <td>NaN</td>\n      <td>8770</td>\n    </tr>\n    <tr>\n      <th>3148</th>\n      <td>1000518</td>\n      <td>P00265242</td>\n      <td>F</td>\n      <td>36-45</td>\n      <td>12</td>\n      <td>C</td>\n      <td>4+</td>\n      <td>0</td>\n      <td>5</td>\n      <td>8.0</td>\n      <td>NaN</td>\n      <td>8896</td>\n    </tr>\n    <tr>\n      <th>3158</th>\n      <td>1000520</td>\n      <td>P00265242</td>\n      <td>F</td>\n      <td>36-45</td>\n      <td>20</td>\n      <td>A</td>\n      <td>2</td>\n      <td>0</td>\n      <td>5</td>\n      <td>8.0</td>\n      <td>NaN</td>\n      <td>8694</td>\n    </tr>\n    <tr>\n      <th>3574</th>\n      <td>1000582</td>\n      <td>P00265242</td>\n      <td>M</td>\n      <td>18-25</td>\n      <td>4</td>\n      <td>C</td>\n      <td>4+</td>\n      <td>0</td>\n      <td>5</td>\n      <td>8.0</td>\n      <td>NaN</td>\n      <td>8761</td>\n    </tr>\n    <tr>\n      <th>3748</th>\n      <td>1000617</td>\n      <td>P00265242</td>\n      <td>F</td>\n      <td>26-35</td>\n      <td>7</td>\n      <td>C</td>\n      <td>1</td>\n      <td>0</td>\n      <td>5</td>\n      <td>8.0</td>\n      <td>NaN</td>\n      <td>8568</td>\n    </tr>\n    <tr>\n      <th>4085</th>\n      <td>1000675</td>\n      <td>P00265242</td>\n      <td>M</td>\n      <td>26-35</td>\n      <td>20</td>\n      <td>C</td>\n      <td>1</td>\n      <td>1</td>\n      <td>5</td>\n      <td>8.0</td>\n      <td>NaN</td>\n      <td>8689</td>\n    </tr>\n    <tr>\n      <th>4087</th>\n      <td>1000676</td>\n      <td>P00265242</td>\n      <td>M</td>\n      <td>18-25</td>\n      <td>16</td>\n      <td>B</td>\n      <td>1</td>\n      <td>1</td>\n      <td>5</td>\n      <td>8.0</td>\n      <td>NaN</td>\n      <td>8714</td>\n    </tr>\n    <tr>\n      <th>5920</th>\n      <td>1000960</td>\n      <td>P00265242</td>\n      <td>M</td>\n      <td>0-17</td>\n      <td>10</td>\n      <td>C</td>\n      <td>4+</td>\n      <td>0</td>\n      <td>5</td>\n      <td>8.0</td>\n      <td>NaN</td>\n      <td>8864</td>\n    </tr>\n    <tr>\n      <th>5958</th>\n      <td>1000970</td>\n      <td>P00265242</td>\n      <td>M</td>\n      <td>26-35</td>\n      <td>0</td>\n      <td>B</td>\n      <td>4+</td>\n      <td>1</td>\n      <td>5</td>\n      <td>8.0</td>\n      <td>NaN</td>\n      <td>7127</td>\n    </tr>\n    <tr>\n      <th>6355</th>\n      <td>1001023</td>\n      <td>P00265242</td>\n      <td>M</td>\n      <td>55+</td>\n      <td>13</td>\n      <td>C</td>\n      <td>2</td>\n      <td>1</td>\n      <td>5</td>\n      <td>8.0</td>\n      <td>NaN</td>\n      <td>3752</td>\n    </tr>\n    <tr>\n      <th>7238</th>\n      <td>1001139</td>\n      <td>P00265242</td>\n      <td>M</td>\n      <td>26-35</td>\n      <td>1</td>\n      <td>C</td>\n      <td>2</td>\n      <td>0</td>\n      <td>5</td>\n      <td>8.0</td>\n      <td>NaN</td>\n      <td>8788</td>\n    </tr>\n    <tr>\n      <th>7465</th>\n      <td>1001165</td>\n      <td>P00265242</td>\n      <td>M</td>\n      <td>26-35</td>\n      <td>12</td>\n      <td>B</td>\n      <td>1</td>\n      <td>1</td>\n      <td>5</td>\n      <td>8.0</td>\n      <td>NaN</td>\n      <td>8882</td>\n    </tr>\n    <tr>\n      <th>7526</th>\n      <td>1001174</td>\n      <td>P00265242</td>\n      <td>F</td>\n      <td>18-25</td>\n      <td>16</td>\n      <td>C</td>\n      <td>0</td>\n      <td>0</td>\n      <td>5</td>\n      <td>8.0</td>\n      <td>NaN</td>\n      <td>7180</td>\n    </tr>\n    <tr>\n      <th>7593</th>\n      <td>1001181</td>\n      <td>P00265242</td>\n      <td>M</td>\n      <td>36-45</td>\n      <td>7</td>\n      <td>A</td>\n      <td>3</td>\n      <td>1</td>\n      <td>5</td>\n      <td>8.0</td>\n      <td>NaN</td>\n      <td>5237</td>\n    </tr>\n    <tr>\n      <th>7773</th>\n      <td>1001204</td>\n      <td>P00265242</td>\n      <td>M</td>\n      <td>26-35</td>\n      <td>7</td>\n      <td>B</td>\n      <td>4+</td>\n      <td>0</td>\n      <td>5</td>\n      <td>8.0</td>\n      <td>NaN</td>\n      <td>8889</td>\n    </tr>\n    <tr>\n      <th>7940</th>\n      <td>1001232</td>\n      <td>P00265242</td>\n      <td>F</td>\n      <td>18-25</td>\n      <td>4</td>\n      <td>C</td>\n      <td>2</td>\n      <td>0</td>\n      <td>5</td>\n      <td>8.0</td>\n      <td>NaN</td>\n      <td>8746</td>\n    </tr>\n    <tr>\n      <th>8244</th>\n      <td>1001273</td>\n      <td>P00265242</td>\n      <td>M</td>\n      <td>36-45</td>\n      <td>2</td>\n      <td>C</td>\n      <td>3</td>\n      <td>1</td>\n      <td>5</td>\n      <td>8.0</td>\n      <td>NaN</td>\n      <td>7041</td>\n    </tr>\n    <tr>\n      <th>8316</th>\n      <td>1001280</td>\n      <td>P00265242</td>\n      <td>M</td>\n      <td>0-17</td>\n      <td>10</td>\n      <td>C</td>\n      <td>1</td>\n      <td>0</td>\n      <td>5</td>\n      <td>8.0</td>\n      <td>NaN</td>\n      <td>8569</td>\n    </tr>\n    <tr>\n      <th>8692</th>\n      <td>1001331</td>\n      <td>P00265242</td>\n      <td>M</td>\n      <td>46-50</td>\n      <td>0</td>\n      <td>C</td>\n      <td>4+</td>\n      <td>1</td>\n      <td>5</td>\n      <td>8.0</td>\n      <td>NaN</td>\n      <td>7103</td>\n    </tr>\n    <tr>\n      <th>8718</th>\n      <td>1001334</td>\n      <td>P00265242</td>\n      <td>M</td>\n      <td>51-55</td>\n      <td>7</td>\n      <td>C</td>\n      <td>0</td>\n      <td>1</td>\n      <td>5</td>\n      <td>8.0</td>\n      <td>NaN</td>\n      <td>8833</td>\n    </tr>\n    <tr>\n      <th>8826</th>\n      <td>1001354</td>\n      <td>P00265242</td>\n      <td>F</td>\n      <td>26-35</td>\n      <td>2</td>\n      <td>B</td>\n      <td>3</td>\n      <td>0</td>\n      <td>5</td>\n      <td>8.0</td>\n      <td>NaN</td>\n      <td>6941</td>\n    </tr>\n    <tr>\n      <th>8925</th>\n      <td>1001366</td>\n      <td>P00265242</td>\n      <td>M</td>\n      <td>0-17</td>\n      <td>10</td>\n      <td>C</td>\n      <td>0</td>\n      <td>0</td>\n      <td>5</td>\n      <td>8.0</td>\n      <td>NaN</td>\n      <td>8879</td>\n    </tr>\n    <tr>\n      <th>...</th>\n      <td>...</td>\n      <td>...</td>\n      <td>...</td>\n      <td>...</td>\n      <td>...</td>\n      <td>...</td>\n      <td>...</td>\n      <td>...</td>\n      <td>...</td>\n      <td>...</td>\n      <td>...</td>\n      <td>...</td>\n    </tr>\n    <tr>\n      <th>536278</th>\n      <td>1004521</td>\n      <td>P00265242</td>\n      <td>M</td>\n      <td>36-45</td>\n      <td>12</td>\n      <td>B</td>\n      <td>1</td>\n      <td>0</td>\n      <td>5</td>\n      <td>8.0</td>\n      <td>NaN</td>\n      <td>8808</td>\n    </tr>\n    <tr>\n      <th>536599</th>\n      <td>1004579</td>\n      <td>P00265242</td>\n      <td>F</td>\n      <td>18-25</td>\n      <td>4</td>\n      <td>B</td>\n      <td>1</td>\n      <td>1</td>\n      <td>5</td>\n      <td>8.0</td>\n      <td>NaN</td>\n      <td>8840</td>\n    </tr>\n    <tr>\n      <th>536651</th>\n      <td>1004590</td>\n      <td>P00265242</td>\n      <td>F</td>\n      <td>18-25</td>\n      <td>20</td>\n      <td>A</td>\n      <td>4+</td>\n      <td>0</td>\n      <td>5</td>\n      <td>8.0</td>\n      <td>NaN</td>\n      <td>6894</td>\n    </tr>\n    <tr>\n      <th>537292</th>\n      <td>1004693</td>\n      <td>P00265242</td>\n      <td>M</td>\n      <td>18-25</td>\n      <td>1</td>\n      <td>A</td>\n      <td>1</td>\n      <td>0</td>\n      <td>5</td>\n      <td>8.0</td>\n      <td>NaN</td>\n      <td>8841</td>\n    </tr>\n    <tr>\n      <th>537321</th>\n      <td>1004702</td>\n      <td>P00265242</td>\n      <td>M</td>\n      <td>26-35</td>\n      <td>11</td>\n      <td>C</td>\n      <td>0</td>\n      <td>0</td>\n      <td>5</td>\n      <td>8.0</td>\n      <td>NaN</td>\n      <td>6891</td>\n    </tr>\n    <tr>\n      <th>537405</th>\n      <td>1004720</td>\n      <td>P00265242</td>\n      <td>M</td>\n      <td>26-35</td>\n      <td>2</td>\n      <td>C</td>\n      <td>4+</td>\n      <td>0</td>\n      <td>5</td>\n      <td>8.0</td>\n      <td>NaN</td>\n      <td>8628</td>\n    </tr>\n    <tr>\n      <th>537416</th>\n      <td>1004725</td>\n      <td>P00265242</td>\n      <td>M</td>\n      <td>36-45</td>\n      <td>5</td>\n      <td>A</td>\n      <td>2</td>\n      <td>0</td>\n      <td>5</td>\n      <td>8.0</td>\n      <td>NaN</td>\n      <td>6916</td>\n    </tr>\n    <tr>\n      <th>537478</th>\n      <td>1004728</td>\n      <td>P00265242</td>\n      <td>M</td>\n      <td>26-35</td>\n      <td>19</td>\n      <td>B</td>\n      <td>3</td>\n      <td>0</td>\n      <td>5</td>\n      <td>8.0</td>\n      <td>NaN</td>\n      <td>6887</td>\n    </tr>\n    <tr>\n      <th>537671</th>\n      <td>1004757</td>\n      <td>P00265242</td>\n      <td>M</td>\n      <td>36-45</td>\n      <td>17</td>\n      <td>C</td>\n      <td>1</td>\n      <td>0</td>\n      <td>5</td>\n      <td>8.0</td>\n      <td>NaN</td>\n      <td>7097</td>\n    </tr>\n    <tr>\n      <th>538120</th>\n      <td>1004826</td>\n      <td>P00265242</td>\n      <td>M</td>\n      <td>46-50</td>\n      <td>12</td>\n      <td>C</td>\n      <td>1</td>\n      <td>1</td>\n      <td>5</td>\n      <td>8.0</td>\n      <td>NaN</td>\n      <td>8628</td>\n    </tr>\n    <tr>\n      <th>538267</th>\n      <td>1004856</td>\n      <td>P00265242</td>\n      <td>M</td>\n      <td>26-35</td>\n      <td>7</td>\n      <td>A</td>\n      <td>1</td>\n      <td>0</td>\n      <td>5</td>\n      <td>8.0</td>\n      <td>NaN</td>\n      <td>7155</td>\n    </tr>\n    <tr>\n      <th>538355</th>\n      <td>1004875</td>\n      <td>P00265242</td>\n      <td>M</td>\n      <td>36-45</td>\n      <td>0</td>\n      <td>C</td>\n      <td>2</td>\n      <td>0</td>\n      <td>5</td>\n      <td>8.0</td>\n      <td>NaN</td>\n      <td>8605</td>\n    </tr>\n    <tr>\n      <th>538459</th>\n      <td>1004890</td>\n      <td>P00265242</td>\n      <td>F</td>\n      <td>26-35</td>\n      <td>1</td>\n      <td>C</td>\n      <td>1</td>\n      <td>0</td>\n      <td>5</td>\n      <td>8.0</td>\n      <td>NaN</td>\n      <td>8759</td>\n    </tr>\n    <tr>\n      <th>539087</th>\n      <td>1005002</td>\n      <td>P00265242</td>\n      <td>M</td>\n      <td>26-35</td>\n      <td>17</td>\n      <td>B</td>\n      <td>1</td>\n      <td>1</td>\n      <td>5</td>\n      <td>8.0</td>\n      <td>NaN</td>\n      <td>8571</td>\n    </tr>\n    <tr>\n      <th>539091</th>\n      <td>1005005</td>\n      <td>P00265242</td>\n      <td>M</td>\n      <td>46-50</td>\n      <td>16</td>\n      <td>B</td>\n      <td>2</td>\n      <td>0</td>\n      <td>5</td>\n      <td>8.0</td>\n      <td>NaN</td>\n      <td>6858</td>\n    </tr>\n    <tr>\n      <th>539824</th>\n      <td>1005104</td>\n      <td>P00265242</td>\n      <td>M</td>\n      <td>36-45</td>\n      <td>20</td>\n      <td>C</td>\n      <td>1</td>\n      <td>0</td>\n      <td>5</td>\n      <td>8.0</td>\n      <td>NaN</td>\n      <td>7175</td>\n    </tr>\n    <tr>\n      <th>540556</th>\n      <td>1005240</td>\n      <td>P00265242</td>\n      <td>F</td>\n      <td>26-35</td>\n      <td>0</td>\n      <td>C</td>\n      <td>1</td>\n      <td>1</td>\n      <td>5</td>\n      <td>8.0</td>\n      <td>NaN</td>\n      <td>8729</td>\n    </tr>\n    <tr>\n      <th>540852</th>\n      <td>1005285</td>\n      <td>P00265242</td>\n      <td>M</td>\n      <td>18-25</td>\n      <td>4</td>\n      <td>A</td>\n      <td>1</td>\n      <td>0</td>\n      <td>5</td>\n      <td>8.0</td>\n      <td>NaN</td>\n      <td>8768</td>\n    </tr>\n    <tr>\n      <th>540886</th>\n      <td>1005294</td>\n      <td>P00265242</td>\n      <td>M</td>\n      <td>26-35</td>\n      <td>2</td>\n      <td>A</td>\n      <td>0</td>\n      <td>1</td>\n      <td>5</td>\n      <td>8.0</td>\n      <td>NaN</td>\n      <td>8893</td>\n    </tr>\n    <tr>\n      <th>541067</th>\n      <td>1005323</td>\n      <td>P00265242</td>\n      <td>M</td>\n      <td>26-35</td>\n      <td>20</td>\n      <td>B</td>\n      <td>1</td>\n      <td>1</td>\n      <td>5</td>\n      <td>8.0</td>\n      <td>NaN</td>\n      <td>8809</td>\n    </tr>\n    <tr>\n      <th>541762</th>\n      <td>1005429</td>\n      <td>P00265242</td>\n      <td>F</td>\n      <td>26-35</td>\n      <td>1</td>\n      <td>B</td>\n      <td>3</td>\n      <td>0</td>\n      <td>5</td>\n      <td>8.0</td>\n      <td>NaN</td>\n      <td>8649</td>\n    </tr>\n    <tr>\n      <th>541894</th>\n      <td>1005445</td>\n      <td>P00265242</td>\n      <td>M</td>\n      <td>26-35</td>\n      <td>0</td>\n      <td>C</td>\n      <td>1</td>\n      <td>1</td>\n      <td>5</td>\n      <td>8.0</td>\n      <td>NaN</td>\n      <td>7075</td>\n    </tr>\n    <tr>\n      <th>542606</th>\n      <td>1005550</td>\n      <td>P00265242</td>\n      <td>M</td>\n      <td>36-45</td>\n      <td>15</td>\n      <td>B</td>\n      <td>2</td>\n      <td>0</td>\n      <td>5</td>\n      <td>8.0</td>\n      <td>NaN</td>\n      <td>8620</td>\n    </tr>\n    <tr>\n      <th>542898</th>\n      <td>1005595</td>\n      <td>P00265242</td>\n      <td>M</td>\n      <td>26-35</td>\n      <td>20</td>\n      <td>B</td>\n      <td>1</td>\n      <td>0</td>\n      <td>5</td>\n      <td>8.0</td>\n      <td>NaN</td>\n      <td>8849</td>\n    </tr>\n    <tr>\n      <th>543049</th>\n      <td>1005621</td>\n      <td>P00265242</td>\n      <td>M</td>\n      <td>26-35</td>\n      <td>7</td>\n      <td>A</td>\n      <td>1</td>\n      <td>0</td>\n      <td>5</td>\n      <td>8.0</td>\n      <td>NaN</td>\n      <td>7170</td>\n    </tr>\n    <tr>\n      <th>543413</th>\n      <td>1005667</td>\n      <td>P00265242</td>\n      <td>M</td>\n      <td>36-45</td>\n      <td>7</td>\n      <td>B</td>\n      <td>1</td>\n      <td>1</td>\n      <td>5</td>\n      <td>8.0</td>\n      <td>NaN</td>\n      <td>8874</td>\n    </tr>\n    <tr>\n      <th>544366</th>\n      <td>1005797</td>\n      <td>P00265242</td>\n      <td>M</td>\n      <td>26-35</td>\n      <td>7</td>\n      <td>A</td>\n      <td>4+</td>\n      <td>1</td>\n      <td>5</td>\n      <td>8.0</td>\n      <td>NaN</td>\n      <td>8880</td>\n    </tr>\n    <tr>\n      <th>544629</th>\n      <td>1005837</td>\n      <td>P00265242</td>\n      <td>M</td>\n      <td>26-35</td>\n      <td>7</td>\n      <td>B</td>\n      <td>0</td>\n      <td>1</td>\n      <td>5</td>\n      <td>8.0</td>\n      <td>NaN</td>\n      <td>8641</td>\n    </tr>\n    <tr>\n      <th>544834</th>\n      <td>1005872</td>\n      <td>P00265242</td>\n      <td>M</td>\n      <td>26-35</td>\n      <td>17</td>\n      <td>C</td>\n      <td>1</td>\n      <td>1</td>\n      <td>5</td>\n      <td>8.0</td>\n      <td>NaN</td>\n      <td>8762</td>\n    </tr>\n    <tr>\n      <th>545207</th>\n      <td>1005933</td>\n      <td>P00265242</td>\n      <td>M</td>\n      <td>26-35</td>\n      <td>2</td>\n      <td>C</td>\n      <td>3</td>\n      <td>1</td>\n      <td>5</td>\n      <td>8.0</td>\n      <td>NaN</td>\n      <td>8623</td>\n    </tr>\n  </tbody>\n</table>\n<p>1880 rows × 12 columns</p>\n</div>"
          },
          "metadata": {}
        }
      ]
    },
    {
      "metadata": {
        "trusted": true,
        "_uuid": "6072dbdd0d4ad053a19f5837890c2235204430c1"
      },
      "cell_type": "code",
      "source": "# # Visualising Correlation\n\n# corrmat = maxPuchasedProduct.corr()\n# f, ax = plt.subplots(figsize=(12, 9))\n\n# sns.heatmap(corrmat, square=True)",
      "execution_count": 132,
      "outputs": []
    },
    {
      "metadata": {
        "trusted": true,
        "_uuid": "822f06320ec10af837f264aa305bbdce29ca6ce6"
      },
      "cell_type": "code",
      "source": "# k = 12\n# selectedCols = corrmat.nlargest(k, 'Purchase')['Purchase'].index\n# cm = np.corrcoef(maxPuchasedProduct[selectedCols].values.T)\n# f, ax = plt.subplots(figsize=(10, 8))\n\n# sns.set(font_scale=1.25)\n# hm = sns.heatmap(cm, cbar=True, annot=True, square=True, fmt='.2f', annot_kws={'size' : 10}, yticklabels=selectedCols.values, xticklabels=selectedCols.values)\n# plt.show()",
      "execution_count": 133,
      "outputs": []
    },
    {
      "metadata": {
        "trusted": true,
        "_uuid": "3cee5cb6131d0634194bd41ac29e2de83520d6f1"
      },
      "cell_type": "code",
      "source": "lowerAgeDix = {'0-17': 0, '18-25': 18, '26-35': 26, '36-45': 36, '46-50': 46, '51-55': 51, '55+': 55 }",
      "execution_count": 134,
      "outputs": []
    },
    {
      "metadata": {
        "trusted": true,
        "_uuid": "959c75fd3c42243b4eb02c2b247ea7e5da92dbcc"
      },
      "cell_type": "code",
      "source": "upperAgeDix = {'0-17': 17, '18-25': 25, '26-35': 35, '36-45': 45, '46-50': 50, '51-55': 55, '55+': 75 }",
      "execution_count": 135,
      "outputs": []
    },
    {
      "metadata": {
        "trusted": true,
        "_uuid": "39031e8c5c8566ff7bc77c111fe09abd05050660"
      },
      "cell_type": "code",
      "source": "combine['Lower_Age'] = combine['Age'].map(lowerAgeDix)",
      "execution_count": 136,
      "outputs": []
    },
    {
      "metadata": {
        "trusted": true,
        "_uuid": "2cefdc9140860ef0bc9f05f7d8810f71e71d4e29"
      },
      "cell_type": "code",
      "source": "combine['Upper_Age'] = combine['Age'].map(upperAgeDix)",
      "execution_count": 137,
      "outputs": []
    },
    {
      "metadata": {
        "trusted": true,
        "_uuid": "96b46ce993598771278e77ee15d6420f25cfda45"
      },
      "cell_type": "code",
      "source": "combine.Stay_In_Current_City_Years = combine.Stay_In_Current_City_Years.replace('4+', 4)",
      "execution_count": 138,
      "outputs": []
    },
    {
      "metadata": {
        "trusted": true,
        "_uuid": "9fe20ca4cc1e9809c15df69b267b20a7d4ab2d21"
      },
      "cell_type": "code",
      "source": "combine = combine.join(meanPrice, on='Product_ID')",
      "execution_count": 139,
      "outputs": []
    },
    {
      "metadata": {
        "trusted": true,
        "_uuid": "38a5456694a56f7f7765f549bc42ee0c269e9238"
      },
      "cell_type": "code",
      "source": "combine.head()",
      "execution_count": 140,
      "outputs": [
        {
          "output_type": "execute_result",
          "execution_count": 140,
          "data": {
            "text/plain": "    Age City_Category Gender      ...       Lower_Age  Upper_Age  MeanPurchase\n0  0-17             A      F      ...               0         17  11870.863436\n1  0-17             A      F      ...               0         17  16304.030981\n2  0-17             A      F      ...               0         17   1237.892157\n3  0-17             A      F      ...               0         17   1455.140762\n4   55+             C      M      ...              55         75   7692.763547\n\n[5 rows x 14 columns]",
            "text/html": "<div>\n<style scoped>\n    .dataframe tbody tr th:only-of-type {\n        vertical-align: middle;\n    }\n\n    .dataframe tbody tr th {\n        vertical-align: top;\n    }\n\n    .dataframe thead th {\n        text-align: right;\n    }\n</style>\n<table border=\"1\" class=\"dataframe\">\n  <thead>\n    <tr style=\"text-align: right;\">\n      <th></th>\n      <th>Age</th>\n      <th>City_Category</th>\n      <th>Gender</th>\n      <th>Marital_Status</th>\n      <th>Occupation</th>\n      <th>Product_Category_1</th>\n      <th>Product_Category_2</th>\n      <th>Product_Category_3</th>\n      <th>Product_ID</th>\n      <th>Stay_In_Current_City_Years</th>\n      <th>User_ID</th>\n      <th>Lower_Age</th>\n      <th>Upper_Age</th>\n      <th>MeanPurchase</th>\n    </tr>\n  </thead>\n  <tbody>\n    <tr>\n      <th>0</th>\n      <td>0-17</td>\n      <td>A</td>\n      <td>F</td>\n      <td>0</td>\n      <td>10</td>\n      <td>3</td>\n      <td>-999.0</td>\n      <td>-999.0</td>\n      <td>P00069042</td>\n      <td>2</td>\n      <td>1000001</td>\n      <td>0</td>\n      <td>17</td>\n      <td>11870.863436</td>\n    </tr>\n    <tr>\n      <th>1</th>\n      <td>0-17</td>\n      <td>A</td>\n      <td>F</td>\n      <td>0</td>\n      <td>10</td>\n      <td>1</td>\n      <td>6.0</td>\n      <td>14.0</td>\n      <td>P00248942</td>\n      <td>2</td>\n      <td>1000001</td>\n      <td>0</td>\n      <td>17</td>\n      <td>16304.030981</td>\n    </tr>\n    <tr>\n      <th>2</th>\n      <td>0-17</td>\n      <td>A</td>\n      <td>F</td>\n      <td>0</td>\n      <td>10</td>\n      <td>12</td>\n      <td>-999.0</td>\n      <td>-999.0</td>\n      <td>P00087842</td>\n      <td>2</td>\n      <td>1000001</td>\n      <td>0</td>\n      <td>17</td>\n      <td>1237.892157</td>\n    </tr>\n    <tr>\n      <th>3</th>\n      <td>0-17</td>\n      <td>A</td>\n      <td>F</td>\n      <td>0</td>\n      <td>10</td>\n      <td>12</td>\n      <td>14.0</td>\n      <td>-999.0</td>\n      <td>P00085442</td>\n      <td>2</td>\n      <td>1000001</td>\n      <td>0</td>\n      <td>17</td>\n      <td>1455.140762</td>\n    </tr>\n    <tr>\n      <th>4</th>\n      <td>55+</td>\n      <td>C</td>\n      <td>M</td>\n      <td>0</td>\n      <td>16</td>\n      <td>8</td>\n      <td>-999.0</td>\n      <td>-999.0</td>\n      <td>P00285442</td>\n      <td>4</td>\n      <td>1000002</td>\n      <td>55</td>\n      <td>75</td>\n      <td>7692.763547</td>\n    </tr>\n  </tbody>\n</table>\n</div>"
          },
          "metadata": {}
        }
      ]
    },
    {
      "metadata": {
        "trusted": true,
        "_uuid": "eea7574390ea0840117575792686d2d3f98b79fa"
      },
      "cell_type": "code",
      "source": "combine.Occupation.unique()",
      "execution_count": 141,
      "outputs": [
        {
          "output_type": "execute_result",
          "execution_count": 141,
          "data": {
            "text/plain": "array([10, 16, 15,  7, 20,  9,  1, 12, 17,  0,  3,  4, 11,  8, 19,  2, 18,\n        5, 14, 13,  6])"
          },
          "metadata": {}
        }
      ]
    },
    {
      "metadata": {
        "trusted": true,
        "_uuid": "419a7999d97e7eb743cb98f7b285309548b7ddf6"
      },
      "cell_type": "code",
      "source": "combine.dtypes",
      "execution_count": 142,
      "outputs": [
        {
          "output_type": "execute_result",
          "execution_count": 142,
          "data": {
            "text/plain": "Age                            object\nCity_Category                  object\nGender                         object\nMarital_Status                  int64\nOccupation                      int64\nProduct_Category_1              int64\nProduct_Category_2            float64\nProduct_Category_3            float64\nProduct_ID                     object\nStay_In_Current_City_Years     object\nUser_ID                         int64\nLower_Age                       int64\nUpper_Age                       int64\nMeanPurchase                  float64\ndtype: object"
          },
          "metadata": {}
        }
      ]
    },
    {
      "metadata": {
        "trusted": true,
        "_uuid": "5f59f89a6d7ca69f6c0c64b12d5c787f6e9d8291"
      },
      "cell_type": "code",
      "source": "combine = pd.get_dummies(combine, columns=['City_Category', 'Gender', 'Marital_Status', 'Stay_In_Current_City_Years'])",
      "execution_count": 143,
      "outputs": []
    },
    {
      "metadata": {
        "trusted": true,
        "_uuid": "d3cf5c3d161e5f4f6a0bde57dabba0e65248c427"
      },
      "cell_type": "code",
      "source": "combine['Product_ID'] = combine['Product_ID'].str[1:]",
      "execution_count": 144,
      "outputs": []
    },
    {
      "metadata": {
        "trusted": true,
        "_uuid": "d8c7429d55a4f38cf45b4cca2aa6108ecbaeef81"
      },
      "cell_type": "code",
      "source": "combine.index.nunique()",
      "execution_count": 145,
      "outputs": [
        {
          "output_type": "execute_result",
          "execution_count": 145,
          "data": {
            "text/plain": "783667"
          },
          "metadata": {}
        }
      ]
    },
    {
      "metadata": {
        "trusted": true,
        "_uuid": "fde36ef2837c266d52d70eb3489ecb795f9c0046"
      },
      "cell_type": "code",
      "source": "combine['Product_ID'] = combine['Product_ID'].astype('int64')\ncombine['Product_Category_2'] = combine['Product_Category_2'].astype('int64')\ncombine['Product_Category_3'] = combine['Product_Category_3'].astype('int64')",
      "execution_count": 146,
      "outputs": []
    },
    {
      "metadata": {
        "trusted": true,
        "_uuid": "f7bf9bdf7fa91c259514bea6860a7ffcb578f29b"
      },
      "cell_type": "code",
      "source": "le = LabelEncoder()",
      "execution_count": 147,
      "outputs": []
    },
    {
      "metadata": {
        "trusted": true,
        "_uuid": "c06532720ddeca154ca908836b885c00d4817a4a"
      },
      "cell_type": "code",
      "source": "combine['Age'] = le.fit_transform(combine.Age)",
      "execution_count": 148,
      "outputs": []
    },
    {
      "metadata": {
        "trusted": true,
        "_uuid": "771f8cb81ef2ceb66fd0565ca79c2cade293ceca"
      },
      "cell_type": "code",
      "source": "combine.dtypes",
      "execution_count": 149,
      "outputs": [
        {
          "output_type": "execute_result",
          "execution_count": 149,
          "data": {
            "text/plain": "Age                               int64\nOccupation                        int64\nProduct_Category_1                int64\nProduct_Category_2                int64\nProduct_Category_3                int64\nProduct_ID                        int64\nUser_ID                           int64\nLower_Age                         int64\nUpper_Age                         int64\nMeanPurchase                    float64\nCity_Category_A                   uint8\nCity_Category_B                   uint8\nCity_Category_C                   uint8\nGender_F                          uint8\nGender_M                          uint8\nMarital_Status_0                  uint8\nMarital_Status_1                  uint8\nStay_In_Current_City_Years_4      uint8\nStay_In_Current_City_Years_0      uint8\nStay_In_Current_City_Years_1      uint8\nStay_In_Current_City_Years_2      uint8\nStay_In_Current_City_Years_3      uint8\ndtype: object"
          },
          "metadata": {}
        }
      ]
    },
    {
      "metadata": {
        "trusted": true,
        "_uuid": "a0ad071954ce85fa8c4174dcfb4e5dca569b9bfd"
      },
      "cell_type": "code",
      "source": "combine.Product_Category_2.unique()",
      "execution_count": 150,
      "outputs": [
        {
          "output_type": "execute_result",
          "execution_count": 150,
          "data": {
            "text/plain": "array([-999,    6,   14,    2,    8,   15,   16,   11,    5,    3,    4,\n         12,    9,   10,   17,   13,    7,   18])"
          },
          "metadata": {}
        }
      ]
    },
    {
      "metadata": {
        "trusted": true,
        "_uuid": "6e414fea9e8a371ecc29eff79c3db459dc93cb7c"
      },
      "cell_type": "code",
      "source": "train = combine[combine.index < 550068].copy()\ntest = combine[combine.index >= 550068].copy()",
      "execution_count": 151,
      "outputs": []
    },
    {
      "metadata": {
        "trusted": true,
        "_uuid": "e8a91df9dfac90cd299c221a67c116c5e54c09f3"
      },
      "cell_type": "code",
      "source": "combine.index",
      "execution_count": 152,
      "outputs": [
        {
          "output_type": "execute_result",
          "execution_count": 152,
          "data": {
            "text/plain": "RangeIndex(start=0, stop=783667, step=1)"
          },
          "metadata": {}
        }
      ]
    },
    {
      "metadata": {
        "trusted": true,
        "_uuid": "ee46d281a878d9a4a48b04323c94d9aefffc1e91"
      },
      "cell_type": "code",
      "source": "train.shape",
      "execution_count": 153,
      "outputs": [
        {
          "output_type": "execute_result",
          "execution_count": 153,
          "data": {
            "text/plain": "(550068, 22)"
          },
          "metadata": {}
        }
      ]
    },
    {
      "metadata": {
        "trusted": true,
        "_uuid": "1af08afc63f6a2c06376556470ed5647d53e555d"
      },
      "cell_type": "code",
      "source": "train.index",
      "execution_count": 154,
      "outputs": [
        {
          "output_type": "execute_result",
          "execution_count": 154,
          "data": {
            "text/plain": "Int64Index([     0,      1,      2,      3,      4,      5,      6,      7,\n                 8,      9,\n            ...\n            550058, 550059, 550060, 550061, 550062, 550063, 550064, 550065,\n            550066, 550067],\n           dtype='int64', length=550068)"
          },
          "metadata": {}
        }
      ]
    },
    {
      "metadata": {
        "trusted": true,
        "_uuid": "a1e7603a4e637bdf450cdb2b4688d2e547309458"
      },
      "cell_type": "code",
      "source": "purchase.shape",
      "execution_count": 155,
      "outputs": [
        {
          "output_type": "execute_result",
          "execution_count": 155,
          "data": {
            "text/plain": "(550068,)"
          },
          "metadata": {}
        }
      ]
    },
    {
      "metadata": {
        "trusted": true,
        "_uuid": "77c534e1d344a0bce18ce177be960eafdb5248f3"
      },
      "cell_type": "code",
      "source": "test.shape",
      "execution_count": 156,
      "outputs": [
        {
          "output_type": "execute_result",
          "execution_count": 156,
          "data": {
            "text/plain": "(233599, 22)"
          },
          "metadata": {}
        }
      ]
    },
    {
      "metadata": {
        "trusted": true,
        "_uuid": "07cecc07c8bc9c7e5fd39641c726e1b9969046d4"
      },
      "cell_type": "code",
      "source": "test.index = range(233599)",
      "execution_count": 157,
      "outputs": []
    },
    {
      "metadata": {
        "trusted": true,
        "_uuid": "99bda87ee16187cbcb67243898374edbef3af14a"
      },
      "cell_type": "code",
      "source": "test.index",
      "execution_count": 158,
      "outputs": [
        {
          "output_type": "execute_result",
          "execution_count": 158,
          "data": {
            "text/plain": "RangeIndex(start=0, stop=233599, step=1)"
          },
          "metadata": {}
        }
      ]
    },
    {
      "metadata": {
        "trusted": true,
        "_uuid": "6c311db8d50b69c848b9053482a8e61c2eba66e2"
      },
      "cell_type": "code",
      "source": "x_train, cv, y_train, y_cv = train_test_split(train, purchase, test_size=0.25, random_state=42)",
      "execution_count": 159,
      "outputs": []
    },
    {
      "metadata": {
        "trusted": true,
        "_uuid": "e271d005e95c9b4d95460120c2d2f6e688650af2"
      },
      "cell_type": "code",
      "source": "x_train.index",
      "execution_count": 160,
      "outputs": [
        {
          "output_type": "execute_result",
          "execution_count": 160,
          "data": {
            "text/plain": "Int64Index([212363,  41298, 470717, 394764, 265659, 111363,  98061, 146374,\n            348055, 482833,\n            ...\n            175203,  87498, 521430, 137337,  54886, 110268, 259178, 365838,\n            131932, 121958],\n           dtype='int64', length=412551)"
          },
          "metadata": {}
        }
      ]
    },
    {
      "metadata": {
        "trusted": true,
        "_uuid": "fc708bd08c1f72cc185f639a339b3ec19aaf8fc1"
      },
      "cell_type": "code",
      "source": "y_train.index",
      "execution_count": 161,
      "outputs": [
        {
          "output_type": "execute_result",
          "execution_count": 161,
          "data": {
            "text/plain": "Int64Index([212363,  41298, 470717, 394764, 265659, 111363,  98061, 146374,\n            348055, 482833,\n            ...\n            175203,  87498, 521430, 137337,  54886, 110268, 259178, 365838,\n            131932, 121958],\n           dtype='int64', length=412551)"
          },
          "metadata": {}
        }
      ]
    },
    {
      "metadata": {
        "trusted": true,
        "_uuid": "f2b7088375f08913e6b1b1194ca6094628205877"
      },
      "cell_type": "code",
      "source": "# ENet = make_pipeline(RobustScaler(), GridSearchCV(ElasticNet(), param_grid={'alpha': [0.01, 0.03, 0.06, 0.1, 0.3, 0.5, 1, 5, 10, 15, 30],\n#                                                                'l1_ratio': [0.001, 0.1, 0.3, 0.5, 0.7, 0.9], 'random_state': [3]}\n#                                                 )\n#                     )",
      "execution_count": 162,
      "outputs": []
    },
    {
      "metadata": {
        "trusted": true,
        "_uuid": "bad8303769f61451eeb46b61cd56096f842cb905"
      },
      "cell_type": "code",
      "source": "model = xgb.XGBRegressor()",
      "execution_count": 163,
      "outputs": []
    },
    {
      "metadata": {
        "trusted": true,
        "_uuid": "61f7ce5c39a862c6749e04cc590b93371c3554ab"
      },
      "cell_type": "code",
      "source": "model.fit(x_train, y_train)",
      "execution_count": 164,
      "outputs": [
        {
          "output_type": "execute_result",
          "execution_count": 164,
          "data": {
            "text/plain": "XGBRegressor(base_score=0.5, booster='gbtree', colsample_bylevel=1,\n       colsample_bytree=1, gamma=0, learning_rate=0.1, max_delta_step=0,\n       max_depth=3, min_child_weight=1, missing=None, n_estimators=100,\n       n_jobs=1, nthread=None, objective='reg:linear', random_state=0,\n       reg_alpha=0, reg_lambda=1, scale_pos_weight=1, seed=None,\n       silent=True, subsample=1)"
          },
          "metadata": {}
        }
      ]
    },
    {
      "metadata": {
        "trusted": true,
        "_uuid": "17885823856ad5424eb44076572b88eea9a1d166"
      },
      "cell_type": "code",
      "source": "def rmse_cv(model, X, y):\n    rmse = np.sqrt(-cross_val_score(model, X, y, scoring='neg_mean_squared_error', cv=5))\n    return rmse",
      "execution_count": 165,
      "outputs": []
    },
    {
      "metadata": {
        "trusted": true,
        "_uuid": "8ab62dfea4775341e92c30d81a7c829a2678915c"
      },
      "cell_type": "code",
      "source": "print(\"score: \", (rmse_cv(model, cv, y_cv)).mean())",
      "execution_count": 166,
      "outputs": [
        {
          "output_type": "stream",
          "text": "score:  2644.535215542934\n",
          "name": "stdout"
        }
      ]
    },
    {
      "metadata": {
        "trusted": true,
        "_uuid": "a943c34371f17bdd9434ebece3d47f69a2e2adb8"
      },
      "cell_type": "code",
      "source": "y_predict = model.predict(test)",
      "execution_count": 167,
      "outputs": []
    },
    {
      "metadata": {
        "trusted": true,
        "_uuid": "1e8d4e35d1bbb80d2a1a011bb2def87bad53a1df"
      },
      "cell_type": "code",
      "source": "submission = pd.DataFrame({\n    'User_ID': test.User_ID,\n    'Product_ID': pr_Id,\n    'Purchase': y_predict\n})",
      "execution_count": 168,
      "outputs": []
    },
    {
      "metadata": {
        "trusted": true,
        "_uuid": "c047adba49c025736042bfd9cfe8319a57c30d7c"
      },
      "cell_type": "code",
      "source": "submission.to_csv('submissionBF_meanPur.csv', index=False)",
      "execution_count": 169,
      "outputs": []
    },
    {
      "metadata": {
        "trusted": true,
        "_uuid": "eb3004aefa6bbbce8546c481ad1e07c9529d7a36"
      },
      "cell_type": "code",
      "source": "# ENet.fit(x_train, y_train)",
      "execution_count": 170,
      "outputs": []
    },
    {
      "metadata": {
        "trusted": true,
        "_uuid": "e448d1ce60b60f5420e14dff444ca0843518472a"
      },
      "cell_type": "code",
      "source": "# y_predict = ENet.predict(test)",
      "execution_count": 171,
      "outputs": []
    }
  ],
  "metadata": {
    "kernelspec": {
      "display_name": "Python 3",
      "language": "python",
      "name": "python3"
    },
    "language_info": {
      "name": "python",
      "version": "3.6.6",
      "mimetype": "text/x-python",
      "codemirror_mode": {
        "name": "ipython",
        "version": 3
      },
      "pygments_lexer": "ipython3",
      "nbconvert_exporter": "python",
      "file_extension": ".py"
    }
  },
  "nbformat": 4,
  "nbformat_minor": 1
}